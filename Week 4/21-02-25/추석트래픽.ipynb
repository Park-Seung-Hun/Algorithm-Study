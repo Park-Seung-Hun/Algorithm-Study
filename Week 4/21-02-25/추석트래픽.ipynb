{
 "cells": [
  {
   "cell_type": "code",
   "execution_count": 8,
   "metadata": {},
   "outputs": [
    {
     "name": "stdout",
     "output_type": "stream",
     "text": [
      "7\n"
     ]
    }
   ],
   "source": [
    "from datetime import datetime, timedelta\n",
    "\n",
    "def solution(lines):\n",
    "    result = []\n",
    "    for line in lines:\n",
    "        temp = line.split(' ') # ['2016-09-15', '01:00:04.001', '2.0s']\n",
    "        date = str(temp[0]) + \" \" + str(temp[1]) # 2016-09-15 01:00:04.001\n",
    "\n",
    "        # 처리시간이 \"2s\"인 경우와 \"2.0s\"인 경우를 나누어서 처리.\n",
    "        if '.' in temp[2]:\n",
    "            delay = temp[2].split('.')\n",
    "            delay[1] = delay[1][0:-1]\n",
    "        else:\n",
    "            delay = list(temp[2][0:-1])\n",
    "            delay += [\"0\"]\n",
    "            # delay[0]에는 초, delay[1]에는 밀리 초\n",
    "\n",
    "        end = datetime.fromisoformat(date)\n",
    "        start = end - timedelta(seconds=int(delay[0]), milliseconds=int(delay[1]) - 1) \n",
    "        # 처리시간은 시작시간과 끝시간을 포함이므로 int(delay[1]) - 1을 더해주어야 함.\n",
    "\n",
    "        result.append([start, end])\n",
    "\n",
    "    answers = []\n",
    "    for timelist in result:\n",
    "        for time in timelist:\n",
    "            answer = 0\n",
    "            for moment in result: \n",
    "                if compare(time, moment) == True:\n",
    "                    answer += 1\n",
    "            answers.append(answer)\n",
    "\n",
    "    return max(answers)\n",
    "            \n",
    "def compare(time, moment):\n",
    "    # start-end 는 로그의 시작 or 끝 부분부터 시작하는 1초간의 구간.\n",
    "    start = time\n",
    "    end = time + timedelta(milliseconds=999) # second=1을 인수를 줬을 때, 오류가 생김.\n",
    "    \n",
    "    # 1초간의 구간 안에 로그가 겹치는 경우는 3가지 경우만 있음.\n",
    "    # 1. 구간의 시작보다 로그의 시작이 작고, 구간의 시작보다 로그의 끝이 큰 경우,\n",
    "    # 2. 구간의 끝보다 로그의 시작이 작고, 구간의 끝보다 로그의 끝이 큰 경우,\n",
    "    # 3. 구간의 시작보다 로그의 시작이 크고, 구간의 끝보다 로그의 끝이 작은 경우 (구간에 포함 될때)\n",
    "    if start >= moment[0] and start <= moment[1]:\n",
    "        return True\n",
    "    elif end >= moment[0] and end <= moment[1]:\n",
    "        return True\n",
    "    elif start <= moment[0] and end >= moment[1]:\n",
    "        return True\n",
    "    \n",
    "    return False\n",
    "\n",
    "lines = [\n",
    "\"2016-09-15 20:59:57.421 0.351s\",\n",
    "\"2016-09-15 20:59:58.233 1.181s\",\n",
    "\"2016-09-15 20:59:58.299 0.8s\",\n",
    "\"2016-09-15 20:59:58.688 1.041s\",\n",
    "\"2016-09-15 20:59:59.591 1.412s\",\n",
    "\"2016-09-15 21:00:00.464 1.466s\",\n",
    "\"2016-09-15 21:00:00.741 1.581s\",\n",
    "\"2016-09-15 21:00:00.748 2.31s\",\n",
    "\"2016-09-15 21:00:00.966 0.381s\",\n",
    "\"2016-09-15 21:00:02.066 2.62s\"\n",
    "]\n",
    "print(solution(lines))"
   ]
  },
  {
   "cell_type": "code",
   "execution_count": null,
   "metadata": {},
   "outputs": [],
   "source": []
  }
 ],
 "metadata": {
  "kernelspec": {
   "display_name": "Python 3",
   "language": "python",
   "name": "python3"
  },
  "language_info": {
   "codemirror_mode": {
    "name": "ipython",
    "version": 3
   },
   "file_extension": ".py",
   "mimetype": "text/x-python",
   "name": "python",
   "nbconvert_exporter": "python",
   "pygments_lexer": "ipython3",
   "version": "3.8.3"
  }
 },
 "nbformat": 4,
 "nbformat_minor": 4
}
