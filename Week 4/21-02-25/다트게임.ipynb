{
 "cells": [
  {
   "cell_type": "code",
   "execution_count": 8,
   "metadata": {},
   "outputs": [
    {
     "name": "stdout",
     "output_type": "stream",
     "text": [
      "(59, ['1**2', '2*2', '3**3*2'])\n"
     ]
    }
   ],
   "source": [
    "def solution(dartResult):\n",
    "    calclist = []\n",
    "    calc = ''\n",
    "    for i in dartResult:\n",
    "        if i.isdigit():\n",
    "            calc += i\n",
    "        if i == 'S':\n",
    "            calclist.append(calc)\n",
    "            calc= ''\n",
    "        if i == 'D':\n",
    "            calc += '**2'\n",
    "            calclist.append(calc)\n",
    "            calc = ''\n",
    "        if i == 'T':\n",
    "            calc += '**3'\n",
    "            calclist.append(calc)\n",
    "            calc = ''\n",
    "        if i == '*':\n",
    "            calclist[-1] += '*2'\n",
    "            if len(calclist) >= 2:\n",
    "                calclist[-2] += '*2'\n",
    "        if i == '#':\n",
    "            calclist[-1] += '*(-1)'\n",
    "    answer = 0\n",
    "    for c in calclist:\n",
    "        answer += eval(c)\n",
    "    return answer\n",
    "\n",
    "res = \"1D2S3T*\"\n",
    "print(solution(res))"
   ]
  },
  {
   "cell_type": "code",
   "execution_count": 2,
   "metadata": {},
   "outputs": [
    {
     "data": {
      "text/plain": [
       "True"
      ]
     },
     "execution_count": 2,
     "metadata": {},
     "output_type": "execute_result"
    }
   ],
   "source": [
    "i = '3'\n",
    "i.isdigit()"
   ]
  },
  {
   "cell_type": "code",
   "execution_count": 3,
   "metadata": {},
   "outputs": [
    {
     "data": {
      "text/plain": [
       "9"
      ]
     },
     "execution_count": 3,
     "metadata": {},
     "output_type": "execute_result"
    }
   ],
   "source": [
    "i = '3**2'\n",
    "eval(i)"
   ]
  },
  {
   "cell_type": "code",
   "execution_count": null,
   "metadata": {},
   "outputs": [],
   "source": []
  }
 ],
 "metadata": {
  "kernelspec": {
   "display_name": "Python 3",
   "language": "python",
   "name": "python3"
  },
  "language_info": {
   "codemirror_mode": {
    "name": "ipython",
    "version": 3
   },
   "file_extension": ".py",
   "mimetype": "text/x-python",
   "name": "python",
   "nbconvert_exporter": "python",
   "pygments_lexer": "ipython3",
   "version": "3.8.3"
  }
 },
 "nbformat": 4,
 "nbformat_minor": 4
}
