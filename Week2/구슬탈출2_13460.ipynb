{
 "cells": [
  {
   "cell_type": "code",
   "execution_count": 7,
   "metadata": {},
   "outputs": [
    {
     "name": "stdout",
     "output_type": "stream",
     "text": [
      "3 3 0 0 16\n",
      "0 1 2\n",
      "3 4 5\n",
      "6 7 8\n",
      "4 4 1 1 3 3 2 2 4 4 1 1 3 3 2 2\n",
      "0\n",
      "0\n",
      "0\n",
      "6\n",
      "0\n",
      "8\n",
      "0\n",
      "2\n",
      "0\n",
      "8\n",
      "0\n",
      "2\n",
      "0\n",
      "8\n",
      "0\n",
      "2\n"
     ]
    }
   ],
   "source": [
    "from collections import deque\n",
    "\n",
    "n, m, x, y, k = map(int, input().split(' '))\n",
    "maps = []\n",
    "\n",
    "for _ in range(n):\n",
    "    line = list(map(int,input().split(' ')))\n",
    "    maps.append(line)\n",
    "\n",
    "commands = list(map(int, input().split(' ')))\n",
    "dx = [0, 1, -1, 0, 0]\n",
    "dy = [0, 0, 0, -1, 1]\n",
    "\n",
    "dice_x = deque([0, 0, 0, 0])\n",
    "dice_y = deque([0, 0, 0, 0])\n",
    "\n",
    "def change_dice():\n",
    "    if command == 1:\n",
    "        _ = dice_x.pop()\n",
    "        dice_x.appendleft(_)\n",
    "        dice_y[0], dice_y[2] = dice_x[0], dice_x[2]\n",
    "    elif command == 2:\n",
    "        _ = dice_x.popleft()\n",
    "        dice_x.append(_)\n",
    "        dice_y[0], dice_y[2] = dice_x[0], dice_x[2]\n",
    "    elif command == 3:\n",
    "        _ = dice_y.pop()\n",
    "        dice_y.appendleft(_)\n",
    "        dice_x[0], dice_x[2] = dice_y[0], dice_y[2]\n",
    "    else:\n",
    "        _ = dice_y.popleft()\n",
    "        dice_y.append(_)\n",
    "        dice_x[0], dice_x[2] = dice_y[0], dice_y[2]\n",
    "\n",
    "for command in commands:\n",
    "    nx = x+dx[command]\n",
    "    ny = y+dy[command]\n",
    "    if not (0<=nx<m and 0<=ny<n):\n",
    "        continue\n",
    "    else:\n",
    "        change_dice()\n",
    "        if maps[ny][nx] == 0:\n",
    "            maps[ny][nx] = dice_x[2]\n",
    "        else:\n",
    "            dice_x[2], dice_y[2] = maps[ny][nx], maps[ny][nx]\n",
    "            maps[ny][nx] = 0\n",
    "        print(dice_x[0])\n",
    "        x,y = nx,ny"
   ]
  },
  {
   "cell_type": "code",
   "execution_count": null,
   "metadata": {},
   "outputs": [],
   "source": [
    "[1, 3, 6, 4]\n",
    "[1 ,2 ,6 ,5]"
   ]
  },
  {
   "cell_type": "code",
   "execution_count": 2,
   "metadata": {},
   "outputs": [
    {
     "data": {
      "text/plain": [
       "[[0, 0, '2'], [0, 0, '4'], [0, 0, '6'], [0, 0, '8']]"
      ]
     },
     "execution_count": 2,
     "metadata": {},
     "output_type": "execute_result"
    }
   ],
   "source": [
    "maps"
   ]
  },
  {
   "cell_type": "code",
   "execution_count": null,
   "metadata": {},
   "outputs": [],
   "source": [
    "import sys\n",
    "input = sys.stdin.readline\n",
    "def move(direction):\n",
    "    if direction == 1:\n",
    "        dice[1], dice[3], dice[4], dice[6] = dice[3], dice[6], dice[1], dice[4]\n",
    "    elif direction == 2:\n",
    "        dice[1], dice[3], dice[4], dice[6] = dice[4], dice[1], dice[6], dice[3]\n",
    "    elif direction == 3:\n",
    "        dice[1], dice[2], dice[5], dice[6] = dice[2], dice[6], dice[1], dice[5]\n",
    "    elif direction == 4:\n",
    "        dice[1], dice[2], dice[5], dice[6] = dice[5], dice[1], dice[6], dice[2]\n",
    "def dire(direction):\n",
    "    if direction == 1: return 0, 1\n",
    "    elif direction == 2: return 0, -1\n",
    "    elif direction == 3: return -1, 0\n",
    "    elif direction == 4: return 1, 0\n",
    "n, m, x, y, k = map(int, input().split())\n",
    "s = []\n",
    "for i in range(n):\n",
    "    s.append(list(map(int, input().split())))\n",
    "com = list(map(int, input().split()))\n",
    "dice = [0, 0, 0, 0, 0, 0, 0]\n",
    "for i in com:\n",
    "    a, b = dire(i)\n",
    "    if 0 <= x + a < n and 0 <= y + b < m:\n",
    "        x += a\n",
    "        y += b\n",
    "        move(i)\n",
    "        if s[x][y] != 0:\n",
    "            dice[1] = s[x][y]\n",
    "            s[x][y] = 0\n",
    "        else:\n",
    "            s[x][y] = dice[1]\n",
    "        print(dice[6])"
   ]
  }
 ],
 "metadata": {
  "kernelspec": {
   "display_name": "Python 3",
   "language": "python",
   "name": "python3"
  },
  "language_info": {
   "codemirror_mode": {
    "name": "ipython",
    "version": 3
   },
   "file_extension": ".py",
   "mimetype": "text/x-python",
   "name": "python",
   "nbconvert_exporter": "python",
   "pygments_lexer": "ipython3",
   "version": "3.8.3"
  }
 },
 "nbformat": 4,
 "nbformat_minor": 4
}
