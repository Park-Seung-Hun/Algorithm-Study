{
 "cells": [
  {
   "cell_type": "code",
   "execution_count": 9,
   "metadata": {},
   "outputs": [
    {
     "name": "stdout",
     "output_type": "stream",
     "text": [
      "2 20 50\n",
      "50 30\n",
      "30 40\n"
     ]
    },
    {
     "ename": "TypeError",
     "evalue": "unsupported operand type(s) for +: 'int' and 'list'",
     "output_type": "error",
     "traceback": [
      "\u001b[1;31m---------------------------------------------------------------------------\u001b[0m",
      "\u001b[1;31mTypeError\u001b[0m                                 Traceback (most recent call last)",
      "\u001b[1;32m<ipython-input-9-8dd74953f2f3>\u001b[0m in \u001b[0;36m<module>\u001b[1;34m\u001b[0m\n\u001b[0;32m     52\u001b[0m                     \u001b[0mmakeunion\u001b[0m\u001b[1;33m(\u001b[0m\u001b[0mi\u001b[0m\u001b[1;33m,\u001b[0m\u001b[0mj\u001b[0m\u001b[1;33m,\u001b[0m\u001b[0mni\u001b[0m\u001b[1;33m,\u001b[0m\u001b[0mnj\u001b[0m\u001b[1;33m)\u001b[0m\u001b[1;33m\u001b[0m\u001b[1;33m\u001b[0m\u001b[0m\n\u001b[0;32m     53\u001b[0m \u001b[1;33m\u001b[0m\u001b[0m\n\u001b[1;32m---> 54\u001b[1;33m \u001b[0mprint\u001b[0m\u001b[1;33m(\u001b[0m\u001b[0msum\u001b[0m\u001b[1;33m(\u001b[0m\u001b[0mcnt_table\u001b[0m\u001b[1;33m)\u001b[0m\u001b[1;33m)\u001b[0m\u001b[1;33m\u001b[0m\u001b[1;33m\u001b[0m\u001b[0m\n\u001b[0m\u001b[0;32m     55\u001b[0m \u001b[1;33m\u001b[0m\u001b[0m\n",
      "\u001b[1;31mTypeError\u001b[0m: unsupported operand type(s) for +: 'int' and 'list'"
     ]
    }
   ],
   "source": [
    "\n",
    "unions = []\n",
    "def makeunion(i, j, ni, nj):\n",
    "    curnode = (i, j)\n",
    "    nxtnode = (ni, nj)\n",
    "    for i in range(len(unions)):\n",
    "        s, union = unions[i]\n",
    "        if curnode in union:\n",
    "            unions[i][1].append(nxtnode)\n",
    "            s += population[i][j]\n",
    "            num_union = len(union)\n",
    "            avg_population = s//num_union\n",
    "            unions[i][0] = s\n",
    "            for ui, uj in union:\n",
    "                population[ui][uj] = avg_population\n",
    "            cnt_table[i][j] += 1\n",
    "            break\n",
    "        if nxtnode in union:\n",
    "            unions[i][1].append(curnode)\n",
    "            s += population[i][j]\n",
    "            num_union = len(union)\n",
    "            avg_population = s//num_union\n",
    "            unions[i][0] = s\n",
    "            for ui, uj in union:\n",
    "                population[ui][uj] = avg_population\n",
    "            cnt_table[i][j] += 1    \n",
    "            break\n",
    "    sumpopulation = population[i][j] + population[ni][nj]\n",
    "    newunion = [sumpopulation, [curnode, nxtnode]]\n",
    "    avg_population = sumpopulation // 2\n",
    "    for ui, uj in newunion[1]:\n",
    "        population[ui][uj] = avg_population\n",
    "    unions.append(newunion)\n",
    "    cnt_table[i][j] += 1\n",
    "\n",
    "n, L, R = map(int, input().split())\n",
    "population = [list(map(int, input().split())) for _ in range(n)]\n",
    "cnt_table = [[0 for _ in range(n)] for _ in range(n)]\n",
    "\n",
    "dx = [1, -1, 0, 0]\n",
    "dy = [0, 0, 1, -1]\n",
    "\n",
    "for i in range(n):\n",
    "    for j in range(n):\n",
    "        curnode_population = population[i][j]\n",
    "        for di, dj in zip(dx, dy):\n",
    "            ni = i + di\n",
    "            nj = j + dj\n",
    "            if 0<=ni<n and 0<=nj<n:\n",
    "                nextnode_population = population[ni][nj]\n",
    "                diff = abs(curnode_population - nextnode_population)\n",
    "                if diff >= L or diff <= R:\n",
    "                    makeunion(i,j,ni,nj)\n",
    "\n",
    "                "
   ]
  },
  {
   "cell_type": "code",
   "execution_count": 1,
   "metadata": {},
   "outputs": [
    {
     "name": "stdout",
     "output_type": "stream",
     "text": [
      "1 2\n",
      "3 4\n"
     ]
    }
   ],
   "source": [
    "a = [(1, 2),(3,4)]\n",
    "for i,j in a:\n",
    "    print(i, j)"
   ]
  },
  {
   "cell_type": "code",
   "execution_count": 10,
   "metadata": {},
   "outputs": [
    {
     "data": {
      "text/plain": [
       "[[40, 40], [40, 40]]"
      ]
     },
     "execution_count": 10,
     "metadata": {},
     "output_type": "execute_result"
    }
   ],
   "source": [
    "population"
   ]
  },
  {
   "cell_type": "code",
   "execution_count": null,
   "metadata": {},
   "outputs": [],
   "source": [
    "from collections import deque\n",
    "import sys\n",
    "input = sys.stdin.readline\n",
    "def bfs(i, j):\n",
    "    q = deque()\n",
    "    q.append([i, j])\n",
    "    temp = []\n",
    "    temp.append([i, j])\n",
    "    while q:\n",
    "        x, y = q.popleft()\n",
    "        for i in range(4):\n",
    "            nx = x + dx[i]\n",
    "            ny = y + dy[i]\n",
    "            if 0 <= nx < n and 0 <= ny < n and visit[nx][ny] == 0:\n",
    "                if l <= abs(s[nx][ny] - s[x][y]) <= r:\n",
    "                    visit[nx][ny] = 1\n",
    "                    q.append([nx, ny])\n",
    "                    temp.append([nx, ny])\n",
    "    return temp\n",
    "dx = [1, -1, 0, 0]\n",
    "dy = [0, 0, -1, 1]\n",
    "n, l, r = map(int, input().split())\n",
    "s = []\n",
    "for i in range(n):\n",
    "    s.append(list(map(int, input().split())))\n",
    "cnt = 0\n",
    "while True:\n",
    "    visit = [[0] * n for i in range(n)]\n",
    "    isTrue = False\n",
    "    for i in range(n):\n",
    "        for j in range(n):\n",
    "            if visit[i][j] == 0:\n",
    "                visit[i][j] = 1\n",
    "                temp = bfs(i, j)\n",
    "                if len(temp) > 1:\n",
    "                    isTrue = True\n",
    "                    num = sum([s[x][y] for x, y in temp]) // len(temp)\n",
    "                    for x, y in temp:\n",
    "                        s[x][y] = num\n",
    "    if not isTrue:\n",
    "        break\n",
    "    cnt += 1\n",
    "print(cnt)"
   ]
  }
 ],
 "metadata": {
  "kernelspec": {
   "display_name": "Python 3",
   "language": "python",
   "name": "python3"
  },
  "language_info": {
   "codemirror_mode": {
    "name": "ipython",
    "version": 3
   },
   "file_extension": ".py",
   "mimetype": "text/x-python",
   "name": "python",
   "nbconvert_exporter": "python",
   "pygments_lexer": "ipython3",
   "version": "3.8.3"
  }
 },
 "nbformat": 4,
 "nbformat_minor": 4
}
