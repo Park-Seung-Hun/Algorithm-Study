{
 "cells": [
  {
   "cell_type": "code",
   "execution_count": 25,
   "metadata": {},
   "outputs": [],
   "source": [
    "import re\n",
    "from itertools import permutations\n",
    "\n",
    "def solution(expression):\n",
    "    #1\n",
    "    priority = [x for x in ['*','+','-'] if x in expression]\n",
    "    priority = [list(y) for y in permutations(priority)]\n",
    "    '''ex = []\n",
    "    nums = []\n",
    "    num = ''\n",
    "    for i in range(len(expression)):\n",
    "        if expression[i].isdigit():\n",
    "            num += expression[i]\n",
    "        elif expression[i] in priority[0]:\n",
    "            ex.append(num)\n",
    "            ex.append(expression[i])\n",
    "            num = ''\n",
    "        if i == len(expression)-1:\n",
    "            ex.append(num)'''\n",
    "    ex = re.split(r'(\\D)',expression) # 위의 코드가 이 한줄로 가능하다..\n",
    "\n",
    "    #2\n",
    "    a = []\n",
    "    for x in priority:\n",
    "        _ex = ex[:]\n",
    "        for operator in x:\n",
    "            while operator in _ex:\n",
    "                tmp = _ex.index(operator)\n",
    "                _ex[tmp-1] = str(eval(_ex[tmp-1]+_ex[tmp]+_ex[tmp+1]))\n",
    "                _ex = _ex[:tmp]+_ex[tmp+2:]\n",
    "        a.append(_ex[-1])\n",
    "\n",
    "    #3\n",
    "    return max(abs(int(x)) for x in a)"
   ]
  },
  {
   "cell_type": "code",
   "execution_count": 26,
   "metadata": {},
   "outputs": [
    {
     "data": {
      "text/plain": [
       "['100', '-', '200', '*', '300', '-', '500', '+', '20']"
      ]
     },
     "execution_count": 26,
     "metadata": {},
     "output_type": "execute_result"
    }
   ],
   "source": [
    "b"
   ]
  },
  {
   "cell_type": "code",
   "execution_count": 27,
   "metadata": {},
   "outputs": [
    {
     "data": {
      "text/plain": [
       "102"
      ]
     },
     "execution_count": 27,
     "metadata": {},
     "output_type": "execute_result"
    }
   ],
   "source": [
    "eval('100+2')"
   ]
  },
  {
   "cell_type": "code",
   "execution_count": null,
   "metadata": {},
   "outputs": [],
   "source": []
  }
 ],
 "metadata": {
  "kernelspec": {
   "display_name": "Python 3",
   "language": "python",
   "name": "python3"
  },
  "language_info": {
   "codemirror_mode": {
    "name": "ipython",
    "version": 3
   },
   "file_extension": ".py",
   "mimetype": "text/x-python",
   "name": "python",
   "nbconvert_exporter": "python",
   "pygments_lexer": "ipython3",
   "version": "3.8.3"
  }
 },
 "nbformat": 4,
 "nbformat_minor": 4
}
