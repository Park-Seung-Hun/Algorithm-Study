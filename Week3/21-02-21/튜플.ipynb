{
 "cells": [
  {
   "cell_type": "code",
   "execution_count": 114,
   "metadata": {},
   "outputs": [],
   "source": [
    "s = \"{{4,2,3},{3},{2,3,4,1},{2,3}}\""
   ]
  },
  {
   "cell_type": "code",
   "execution_count": 93,
   "metadata": {},
   "outputs": [],
   "source": [
    "# t 4,8,10 실패.. 이유 모르겠다\n",
    "def solution(s):\n",
    "    answer = []\n",
    "    nums = set()\n",
    "    _tmp = ''\n",
    "    num_s = []\n",
    "    for num in s:\n",
    "        if num.isdigit():\n",
    "            _tmp += num\n",
    "        if num == ',':\n",
    "            if _tmp != '':\n",
    "                nums.add(int(_tmp))\n",
    "                _tmp = ''\n",
    "        if num == '}':\n",
    "            if _tmp != '':\n",
    "                nums.add(int(_tmp))\n",
    "            num_s.append(nums)\n",
    "            nums=set()\n",
    "            _tmp = ''\n",
    "    _ = num_s.pop(-1)\n",
    "    num_s = sorted(num_s, key = lambda x : len(x))\n",
    "    for i in range(len(num_s)):\n",
    "        if len(num_s[i]) == 1:\n",
    "            answer.append(num_s[i].pop())\n",
    "        else:\n",
    "            diffset = num_s[i] - num_s[i-1]\n",
    "            ele = diffset.pop()\n",
    "            answer.append(ele)\n",
    "    return answer"
   ]
  },
  {
   "cell_type": "code",
   "execution_count": 115,
   "metadata": {},
   "outputs": [
    {
     "name": "stdout",
     "output_type": "stream",
     "text": [
      "[3, 2, 4, 1]\n"
     ]
    }
   ],
   "source": [
    "print(solution(s))"
   ]
  },
  {
   "cell_type": "code",
   "execution_count": 113,
   "metadata": {},
   "outputs": [],
   "source": [
    "# 성공 풀이\n",
    "def solution(s):\n",
    "    answer = []\n",
    "    s = s[2:-2]\n",
    "    s = s.split('},{')\n",
    "    s.sort(key=len)\n",
    "\n",
    "    for i in s:\n",
    "        ii = i.split(',')\n",
    "        for j in ii:\n",
    "            if int(j) not in answer:\n",
    "                answer.append(int(j))\n",
    "    return answer"
   ]
  },
  {
   "cell_type": "code",
   "execution_count": 107,
   "metadata": {},
   "outputs": [
    {
     "data": {
      "text/plain": [
       "['3', '2,3', '4,2,3', '2,3,4,1']"
      ]
     },
     "execution_count": 107,
     "metadata": {},
     "output_type": "execute_result"
    }
   ],
   "source": [
    "s"
   ]
  },
  {
   "cell_type": "code",
   "execution_count": null,
   "metadata": {},
   "outputs": [],
   "source": []
  }
 ],
 "metadata": {
  "kernelspec": {
   "display_name": "Python 3",
   "language": "python",
   "name": "python3"
  },
  "language_info": {
   "codemirror_mode": {
    "name": "ipython",
    "version": 3
   },
   "file_extension": ".py",
   "mimetype": "text/x-python",
   "name": "python",
   "nbconvert_exporter": "python",
   "pygments_lexer": "ipython3",
   "version": "3.8.3"
  }
 },
 "nbformat": 4,
 "nbformat_minor": 4
}
