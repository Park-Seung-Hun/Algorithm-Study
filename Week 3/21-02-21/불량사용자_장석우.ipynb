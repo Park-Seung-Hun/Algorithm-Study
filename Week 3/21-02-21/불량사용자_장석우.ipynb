{
 "cells": [
  {
   "cell_type": "code",
   "execution_count": 21,
   "metadata": {},
   "outputs": [],
   "source": [
    "from itertools import permutations\n",
    "\n",
    "def solution(user_id, banned_id):\n",
    "    res = []\n",
    "    for permutation_set in permutations(user_id, len(banned_id)):\n",
    "        if match(permutation_set, banned_id):\n",
    "            permutation_set = set(permutation_set)\n",
    "            if permutation_set not in res:\n",
    "                res.append(permutation_set)\n",
    "    answer = len(res)\n",
    "    return answer\n",
    "\n",
    "user_id = [\"frodo\", \"fradi\", \"crodo\", \"abc123\", \"frodoc\"]\n",
    "banned_id = [\"*rodo\", \"*rodo\", \"******\"]\n",
    "\n",
    "def match(user_set, banned_set):\n",
    "    for i in range(len(user_set)):\n",
    "        if len(user_set[i]) != len(banned_set[i]):\n",
    "            return False\n",
    "        for j in range(len(user_set[i])):\n",
    "            if banned_set[i][j] == '*':\n",
    "                continue\n",
    "            if banned_set[i][j] != user_set[i][j]:\n",
    "                return False\n",
    "    return True\n",
    "                \n",
    "                "
   ]
  },
  {
   "cell_type": "code",
   "execution_count": 22,
   "metadata": {},
   "outputs": [
    {
     "name": "stdout",
     "output_type": "stream",
     "text": [
      "2\n"
     ]
    }
   ],
   "source": [
    "print(solution(user_id,banned_id))"
   ]
  },
  {
   "cell_type": "code",
   "execution_count": 16,
   "metadata": {},
   "outputs": [
    {
     "data": {
      "text/plain": [
       "[('frodo', 'fradi', 'crodo'),\n",
       " ('frodo', 'fradi', 'abc123'),\n",
       " ('frodo', 'fradi', 'frodoc'),\n",
       " ('frodo', 'crodo', 'fradi'),\n",
       " ('frodo', 'crodo', 'abc123'),\n",
       " ('frodo', 'crodo', 'frodoc'),\n",
       " ('frodo', 'abc123', 'fradi'),\n",
       " ('frodo', 'abc123', 'crodo'),\n",
       " ('frodo', 'abc123', 'frodoc'),\n",
       " ('frodo', 'frodoc', 'fradi'),\n",
       " ('frodo', 'frodoc', 'crodo'),\n",
       " ('frodo', 'frodoc', 'abc123'),\n",
       " ('fradi', 'frodo', 'crodo'),\n",
       " ('fradi', 'frodo', 'abc123'),\n",
       " ('fradi', 'frodo', 'frodoc'),\n",
       " ('fradi', 'crodo', 'frodo'),\n",
       " ('fradi', 'crodo', 'abc123'),\n",
       " ('fradi', 'crodo', 'frodoc'),\n",
       " ('fradi', 'abc123', 'frodo'),\n",
       " ('fradi', 'abc123', 'crodo'),\n",
       " ('fradi', 'abc123', 'frodoc'),\n",
       " ('fradi', 'frodoc', 'frodo'),\n",
       " ('fradi', 'frodoc', 'crodo'),\n",
       " ('fradi', 'frodoc', 'abc123'),\n",
       " ('crodo', 'frodo', 'fradi'),\n",
       " ('crodo', 'frodo', 'abc123'),\n",
       " ('crodo', 'frodo', 'frodoc'),\n",
       " ('crodo', 'fradi', 'frodo'),\n",
       " ('crodo', 'fradi', 'abc123'),\n",
       " ('crodo', 'fradi', 'frodoc'),\n",
       " ('crodo', 'abc123', 'frodo'),\n",
       " ('crodo', 'abc123', 'fradi'),\n",
       " ('crodo', 'abc123', 'frodoc'),\n",
       " ('crodo', 'frodoc', 'frodo'),\n",
       " ('crodo', 'frodoc', 'fradi'),\n",
       " ('crodo', 'frodoc', 'abc123'),\n",
       " ('abc123', 'frodo', 'fradi'),\n",
       " ('abc123', 'frodo', 'crodo'),\n",
       " ('abc123', 'frodo', 'frodoc'),\n",
       " ('abc123', 'fradi', 'frodo'),\n",
       " ('abc123', 'fradi', 'crodo'),\n",
       " ('abc123', 'fradi', 'frodoc'),\n",
       " ('abc123', 'crodo', 'frodo'),\n",
       " ('abc123', 'crodo', 'fradi'),\n",
       " ('abc123', 'crodo', 'frodoc'),\n",
       " ('abc123', 'frodoc', 'frodo'),\n",
       " ('abc123', 'frodoc', 'fradi'),\n",
       " ('abc123', 'frodoc', 'crodo'),\n",
       " ('frodoc', 'frodo', 'fradi'),\n",
       " ('frodoc', 'frodo', 'crodo'),\n",
       " ('frodoc', 'frodo', 'abc123'),\n",
       " ('frodoc', 'fradi', 'frodo'),\n",
       " ('frodoc', 'fradi', 'crodo'),\n",
       " ('frodoc', 'fradi', 'abc123'),\n",
       " ('frodoc', 'crodo', 'frodo'),\n",
       " ('frodoc', 'crodo', 'fradi'),\n",
       " ('frodoc', 'crodo', 'abc123'),\n",
       " ('frodoc', 'abc123', 'frodo'),\n",
       " ('frodoc', 'abc123', 'fradi'),\n",
       " ('frodoc', 'abc123', 'crodo')]"
      ]
     },
     "execution_count": 16,
     "metadata": {},
     "output_type": "execute_result"
    }
   ],
   "source": [
    "list(permutations(user_id, len(banned_id)))"
   ]
  },
  {
   "cell_type": "code",
   "execution_count": 12,
   "metadata": {},
   "outputs": [
    {
     "data": {
      "text/plain": [
       "[2, 0, 2]"
      ]
     },
     "execution_count": 12,
     "metadata": {},
     "output_type": "execute_result"
    }
   ],
   "source": [
    "cnt"
   ]
  },
  {
   "cell_type": "code",
   "execution_count": null,
   "metadata": {},
   "outputs": [],
   "source": [
    "abc**\n",
    "**cof\n",
    "\n"
   ]
  }
 ],
 "metadata": {
  "kernelspec": {
   "display_name": "Python 3",
   "language": "python",
   "name": "python3"
  },
  "language_info": {
   "codemirror_mode": {
    "name": "ipython",
    "version": 3
   },
   "file_extension": ".py",
   "mimetype": "text/x-python",
   "name": "python",
   "nbconvert_exporter": "python",
   "pygments_lexer": "ipython3",
   "version": "3.8.3"
  }
 },
 "nbformat": 4,
 "nbformat_minor": 4
}
