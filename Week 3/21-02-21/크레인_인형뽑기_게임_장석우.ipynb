{
 "cells": [
  {
   "cell_type": "code",
   "execution_count": 2,
   "metadata": {},
   "outputs": [
    {
     "name": "stdout",
     "output_type": "stream",
     "text": [
      "(4, deque([0, 4, 2, 4]))\n"
     ]
    }
   ],
   "source": [
    "from collections import deque\n",
    "\n",
    "def solution(board, moves):\n",
    "    s = deque()\n",
    "    s.append(0)\n",
    "    cnt = 0\n",
    "    for move in moves:\n",
    "        j = move-1\n",
    "        for i in range(len(board)):\n",
    "            if board[i][j] != 0:\n",
    "                doll = board[i][j]\n",
    "                board[i][j] = 0\n",
    "                break\n",
    "            if i == len(board)-1:\n",
    "                if board[i][j] == 0:\n",
    "                    doll = None\n",
    "        if doll != None:\n",
    "            if s[-1] == doll:\n",
    "                cnt += 2\n",
    "                s.pop()\n",
    "            else:\n",
    "                s.append(doll)\n",
    "    answer = cnt\n",
    "    return answer, s\n",
    "\n",
    "\n",
    "board = [[0,0,0,0,0],\n",
    "         [0,0,1,0,3],\n",
    "         [0,2,5,0,1],\n",
    "         [4,2,4,4,2],\n",
    "         [3,5,1,3,1]]\n",
    "moves = [1,5,3,5,1,2,1,4]\n",
    "print(solution(board, moves))"
   ]
  },
  {
   "cell_type": "code",
   "execution_count": null,
   "metadata": {},
   "outputs": [],
   "source": [
    "4 3 1 1 3 2 4"
   ]
  }
 ],
 "metadata": {
  "kernelspec": {
   "display_name": "Python 3",
   "language": "python",
   "name": "python3"
  },
  "language_info": {
   "codemirror_mode": {
    "name": "ipython",
    "version": 3
   },
   "file_extension": ".py",
   "mimetype": "text/x-python",
   "name": "python",
   "nbconvert_exporter": "python",
   "pygments_lexer": "ipython3",
   "version": "3.8.3"
  }
 },
 "nbformat": 4,
 "nbformat_minor": 4
}
